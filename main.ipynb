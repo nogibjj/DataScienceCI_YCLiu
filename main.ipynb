{
 "cells": [
  {
   "cell_type": "markdown",
   "id": "b8808c22",
   "metadata": {},
   "source": [
    "## Generate Decriptive Statstics with Home Brew Library\n",
    "This Jupyter notebook demonstrates using a home-brew pandas-based library (lib.py) to generate descriptive statistics. The dataset used for demo is extracted from [European Health for All database (HFA-DB)](https://gateway.euro.who.int/en/datasets/european-health-for-all-database/), which contains suicide rate and GDP per capita data for France and Albania from the 1960's to the 2010's."
   ]
  },
  {
   "cell_type": "code",
   "execution_count": 1,
   "id": "44a32fc7",
   "metadata": {},
   "outputs": [],
   "source": [
    "#import libraries\n",
    "import pandas as pd\n",
    "import lib"
   ]
  },
  {
   "cell_type": "markdown",
   "id": "440ebae6",
   "metadata": {},
   "source": [
    "First, the csv file is read in as a pandas DataFrame.\n",
    "The dataset contains 4 columns: COUNTRY_REGIONS, YEAR, GDP per Capita, and Suicide Rate"
   ]
  },
  {
   "cell_type": "code",
   "execution_count": 2,
   "id": "30df2819",
   "metadata": {},
   "outputs": [
    {
     "name": "stdout",
     "output_type": "stream",
     "text": [
      "  COUNTRY_REGION  YEAR  GDP per Capita  Suicide Rate\n",
      "0            ALB  1987          674.79          2.47\n",
      "1            ALB  1988          652.77          2.40\n",
      "2            ALB  1989          698.00          2.48\n",
      "3            ALB  1992          200.85          1.65\n",
      "4            ALB  1993          367.28          2.53\n"
     ]
    }
   ],
   "source": [
    "# Read dataset from a csv file\n",
    "Dataset_raw = pd.read_csv('Dataset.csv')\n",
    "print(Dataset_raw.head())"
   ]
  },
  {
   "cell_type": "code",
   "execution_count": 3,
   "id": "e8c7c724",
   "metadata": {},
   "outputs": [],
   "source": [
    "# Select data from 1990 to 2010\n",
    "Dataset = Dataset_raw[(Dataset_raw['YEAR']>=1990)&(Dataset_raw['YEAR']<=2010)].copy()"
   ]
  },
  {
   "cell_type": "markdown",
   "id": "83789858",
   "metadata": {},
   "source": [
    "Next, a column named Suicide Rate Cat was created, categorizing suicide rate into 3 groups: low, medium and high. "
   ]
  },
  {
   "cell_type": "code",
   "execution_count": 4,
   "id": "16a0ec57",
   "metadata": {},
   "outputs": [],
   "source": [
    "# Define categorical Variable\n",
    "def catSuicideRate(rate):\n",
    "    if rate < 5:\n",
    "        return 'low'\n",
    "    elif rate < 15:\n",
    "        return 'medium'\n",
    "    else:\n",
    "        return 'high'\n",
    "\n",
    "Dataset['Suicide Rate Cat'] = Dataset['Suicide Rate'].apply(catSuicideRate)"
   ]
  },
  {
   "cell_type": "markdown",
   "id": "8c458696",
   "metadata": {},
   "source": [
    "Descriptive Statistics were first generated for GDP per Capita and Suicide Rate in France."
   ]
  },
  {
   "cell_type": "code",
   "execution_count": 5,
   "id": "f459d571",
   "metadata": {},
   "outputs": [
    {
     "name": "stdout",
     "output_type": "stream",
     "text": [
      "Descriptive Statistics for France from 1990 to 2010:\n",
      "In GDP per Capita column, the mean is 29206.78 and the median is 24974.27.\n",
      "In Suicide Rate column, the mean is 16.92 and the median is 16.48.\n",
      "In Suicide Rate Cat column, the number of occurrences of high is 18, or 85.71% of total samples.\n",
      "In Suicide Rate Cat column, the number of occurrences of medium is 3, or 14.29% of total samples.\n",
      "In Suicide Rate Cat column, the number of occurrences of low is 0, or 0.0% of total samples.\n"
     ]
    }
   ],
   "source": [
    "# Summarize GDP per Capita and Suicide Rate data in France\n",
    "Dataset_FRA = Dataset[Dataset['COUNTRY_REGION']=='FRA']\n",
    "print(\"Descriptive Statistics for France from 1990 to 2010:\")\n",
    "print(lib.printNumStats(Dataset_FRA, 'GDP per Capita'))\n",
    "print(lib.printNumStats(Dataset_FRA, 'Suicide Rate'))\n",
    "print(lib.printOccStats(Dataset_FRA, 'Suicide Rate Cat', 'high'))\n",
    "print(lib.printOccStats(Dataset_FRA, 'Suicide Rate Cat', 'medium'))\n",
    "print(lib.printOccStats(Dataset_FRA, 'Suicide Rate Cat', 'low'))"
   ]
  },
  {
   "cell_type": "markdown",
   "id": "282b8fab",
   "metadata": {},
   "source": [
    "Descriptive Statistics were then generated for GDP per Capita and Suicide Rate in Albania."
   ]
  },
  {
   "cell_type": "code",
   "execution_count": 6,
   "id": "526dd8f0",
   "metadata": {},
   "outputs": [
    {
     "name": "stdout",
     "output_type": "stream",
     "text": [
      "Descriptive Statistics for Albania from 1990 to 2010:\n",
      "In GDP per Capita column, the mean is 1736.61 and the median is 1204.17.\n",
      "In Suicide Rate column, the mean is 3.17 and the median is 3.58.\n",
      "In Suicide Rate Cat column, the number of occurrences of high is 0, or 0.0% of total samples.\n",
      "In Suicide Rate Cat column, the number of occurrences of medium is 2, or 11.11% of total samples.\n",
      "In Suicide Rate Cat column, the number of occurrences of low is 16, or 88.89% of total samples.\n"
     ]
    }
   ],
   "source": [
    "Dataset_ALB = Dataset[Dataset['COUNTRY_REGION']=='ALB']\n",
    "print(\"Descriptive Statistics for Albania from 1990 to 2010:\")\n",
    "print(lib.printNumStats(Dataset_ALB, 'GDP per Capita'))\n",
    "print(lib.printNumStats(Dataset_ALB, 'Suicide Rate'))\n",
    "print(lib.printOccStats(Dataset_ALB, 'Suicide Rate Cat', 'high'))\n",
    "print(lib.printOccStats(Dataset_ALB, 'Suicide Rate Cat', 'medium'))\n",
    "print(lib.printOccStats(Dataset_ALB, 'Suicide Rate Cat', 'low'))"
   ]
  }
 ],
 "metadata": {
  "kernelspec": {
   "display_name": "Python 3 (ipykernel)",
   "language": "python",
   "name": "python3"
  },
  "language_info": {
   "codemirror_mode": {
    "name": "ipython",
    "version": 3
   },
   "file_extension": ".py",
   "mimetype": "text/x-python",
   "name": "python",
   "nbconvert_exporter": "python",
   "pygments_lexer": "ipython3",
   "version": "3.11.5"
  }
 },
 "nbformat": 4,
 "nbformat_minor": 5
}
